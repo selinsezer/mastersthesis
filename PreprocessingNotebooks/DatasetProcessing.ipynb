{
 "cells": [
  {
   "cell_type": "code",
   "execution_count": 1,
   "metadata": {},
   "outputs": [
    {
     "name": "stdout",
     "output_type": "stream",
     "text": [
      "CPU times: user 1.37 s, sys: 667 ms, total: 2.04 s\n",
      "Wall time: 3.65 s\n"
     ]
    }
   ],
   "source": [
    "%%time\n",
    "import pandas as pd\n",
    "import numpy as np\n",
    "from sklearn.feature_extraction.text import TfidfVectorizer"
   ]
  },
  {
   "cell_type": "code",
   "execution_count": 2,
   "metadata": {},
   "outputs": [
    {
     "name": "stdout",
     "output_type": "stream",
     "text": [
      "#\tReading cleaned data...\n",
      "CPU times: user 19.5 s, sys: 9.96 s, total: 29.5 s\n",
      "Wall time: 36.2 s\n"
     ]
    }
   ],
   "source": [
    "%%time\n",
    "print(\"#\\tReading cleaned data...\")\n",
    "file_name = \"training_data\"\n",
    "dtype={\"address\": str, \"solidity\": str, \"opcode\": str, \"function_names\": list}\n",
    "udf = pd.read_csv(file_name, sep='\\t')"
   ]
  },
  {
   "cell_type": "code",
   "execution_count": 3,
   "metadata": {},
   "outputs": [
    {
     "name": "stdout",
     "output_type": "stream",
     "text": [
      "CPU times: user 4 µs, sys: 1 µs, total: 5 µs\n",
      "Wall time: 7.87 µs\n"
     ]
    }
   ],
   "source": [
    "%%time\n",
    "def write_dataset_into_file(potential, potential_non, file_name_potential, file_name_non_potential):\n",
    "    sample_size = min(potential_non.shape[0], potential.shape[0])\n",
    "    potential.head(sample_size).to_csv(file_name_potential, sep=',', index=False, header='opcode')\n",
    "    potential_non.sample(n=sample_size).to_csv(file_name_non_potential, sep=',', index=False, header='opcode')"
   ]
  },
  {
   "cell_type": "markdown",
   "metadata": {},
   "source": [
    "#### ERC20 Example"
   ]
  },
  {
   "cell_type": "code",
   "execution_count": 19,
   "metadata": {},
   "outputs": [
    {
     "name": "stdout",
     "output_type": "stream",
     "text": [
      "#\tCreating erc20-nonerc20 dataset.\n",
      "#\tNumber of potential erc20 contracts found: 1684\n",
      "#\tNumber of potential non-erc20 contracts found: 1601\n",
      "#\tWriting the potential erc20-nonerc20 contracts into file with an equal distribution...\n",
      "CPU times: user 3.16 s, sys: 186 ms, total: 3.35 s\n",
      "Wall time: 3.96 s\n"
     ]
    }
   ],
   "source": [
    "%%time\n",
    "print(\"#\\tCreating erc20-nonerc20 dataset.\")\n",
    "\n",
    "potential_erc20 = df.loc[\n",
    "    lambda data: data.function_names.apply(\n",
    "        lambda l: 'balanceof' in str(l) and\n",
    "                  'totalsupply' in str(l) and \n",
    "                  'transfer' in str(l) and\n",
    "                  'transferfrom' in str(l) and\n",
    "                  'approve' in str(l) and\n",
    "                  'allowance' in str(l)\n",
    "    )\n",
    "]\n",
    "print(\"#\\tNumber of potential erc20 contracts found: {}\".format(potential_erc20.shape[0]))\n",
    "\n",
    "potential_non_erc20 = df.loc[\n",
    "    lambda data: data.function_names.apply(\n",
    "        lambda l: 'balanceof' not in str(l) and\n",
    "                  'totalsupply' not in str(l) and \n",
    "                  'transfer' not in str(l) and\n",
    "                  'transferfrom' not in str(l) and\n",
    "                  'approve' not in str(l) and\n",
    "                  'allowance' not in str(l)\n",
    "    )\n",
    "]\n",
    "print(\"#\\tNumber of potential non-erc20 contracts found: {}\".format(potential_non_erc20.shape[0]))\n",
    "\n",
    "print(\"#\\tWriting the potential erc20-nonerc20 contracts into file with an equal distribution...\")\n",
    "write_dataset_into_file(potential_erc20, potential_non_erc20, \"erc20.csv\", \"non-erc20.csv\")"
   ]
  },
  {
   "cell_type": "code",
   "execution_count": 16,
   "metadata": {},
   "outputs": [],
   "source": [
    "pd.set_option('display.max_rows', None)\n",
    "pd.set_option('display.max_columns', None)\n",
    "pd.set_option('display.width', None)\n",
    "pd.set_option('display.max_colwidth', -1)"
   ]
  },
  {
   "cell_type": "markdown",
   "metadata": {},
   "source": [
    "# Creating training data sets"
   ]
  },
  {
   "cell_type": "markdown",
   "metadata": {},
   "source": [
    "# Application Patterns"
   ]
  },
  {
   "cell_type": "markdown",
   "metadata": {},
   "source": [
    "## Voting"
   ]
  },
  {
   "cell_type": "code",
   "execution_count": 7,
   "metadata": {},
   "outputs": [
    {
     "name": "stdout",
     "output_type": "stream",
     "text": [
      "#\tCreating voting-nonvoting dataset.\n",
      "#\tNumber of potential vote contracts found: 1113\n",
      "#\tNumber of potential non-vote contracts found: 41436\n",
      "#\tWriting the potential voting-nonvoting contracts into file with an equal distribution...\n",
      "CPU times: user 3.08 s, sys: 321 ms, total: 3.4 s\n",
      "Wall time: 3.54 s\n"
     ]
    }
   ],
   "source": [
    "%%time\n",
    "print(\"#\\tCreating voting-nonvoting dataset.\")\n",
    "\n",
    "potential_voting = udf.loc[\n",
    "    lambda data: data.function_names.apply(\n",
    "        lambda l: 'vote' in str(l) or\n",
    "                  'ballot' in str(l) or\n",
    "                  'voting' in str(l)\n",
    "    )\n",
    "]\n",
    "\n",
    "print(\"#\\tNumber of potential vote contracts found: {}\".format(potential_voting.shape[0]))\n",
    "potential_non_voting = udf.loc[\n",
    "    lambda data: data.function_names.apply(\n",
    "        lambda l: 'vote' not in str(l) and\n",
    "                  'voting' not in str(l) and\n",
    "                  'ballot' not in str(l)\n",
    "    )\n",
    "]\n",
    "potential_non_voting = potential_non_voting.drop_duplicates(subset='function_names', keep=\"first\")\n",
    "print(\"#\\tNumber of potential non-vote contracts found: {}\".format(potential_non_voting.shape[0]))\n",
    "\n",
    "print( \"#\\tWriting the potential voting-nonvoting contracts into file with an equal distribution...\")\n",
    "write_dataset_into_file(potential_voting, potential_non_voting, \"voting.csv\", \"non-voting.csv\")"
   ]
  },
  {
   "cell_type": "markdown",
   "metadata": {},
   "source": [
    "## Auction"
   ]
  },
  {
   "cell_type": "code",
   "execution_count": 9,
   "metadata": {},
   "outputs": [
    {
     "name": "stdout",
     "output_type": "stream",
     "text": [
      "#\tCreating auction-nonauciton dataset.\n",
      "#\tNumber of potential auction contracts found: 433\n",
      "#\tNumber of potential non-auction contracts found: 41373\n",
      "#\tWriting the potential auction-nonauction contracts into file with an equal distribution...\n",
      "CPU times: user 1.26 s, sys: 89.1 ms, total: 1.35 s\n",
      "Wall time: 1.4 s\n"
     ]
    }
   ],
   "source": [
    "%%time\n",
    "print(\"#\\tCreating auction-nonauciton dataset.\")\n",
    "\n",
    "potential_auction = udf.loc[\n",
    "    lambda data: data.function_names.apply(\n",
    "        lambda l: 'auction' in str(l) and\n",
    "                  'bid' in str(l)\n",
    "    )\n",
    "]\n",
    "\n",
    "print(\"#\\tNumber of potential auction contracts found: {}\".format(potential_auction.shape[0]))\n",
    "\n",
    "potential_non_auction = udf.loc[\n",
    "    lambda data: data.function_names.apply(\n",
    "        lambda l: 'auction' not in str(l) and\n",
    "                  'bid' not in str(l)\n",
    "    )\n",
    "]\n",
    "potential_non_auction = potential_non_auction.drop_duplicates(subset='function_names', keep=\"first\")\n",
    "print(\"#\\tNumber of potential non-auction contracts found: {}\".format(potential_non_auction.shape[0]))\n",
    "\n",
    "print(\"#\\tWriting the potential auction-nonauction contracts into file with an equal distribution...\")\n",
    "write_dataset_into_file(potential_auction, potential_non_auction, \"auction.csv\", \"non-auction.csv\")"
   ]
  },
  {
   "cell_type": "markdown",
   "metadata": {},
   "source": [
    "## Entity Management"
   ]
  },
  {
   "cell_type": "code",
   "execution_count": 10,
   "metadata": {},
   "outputs": [
    {
     "name": "stdout",
     "output_type": "stream",
     "text": [
      "#\tCreating entitymgm-nonentitymgm dataset.\n",
      "#\tNumber of potential entitymgm contracts found: 799\n",
      "#\tNumber of potential non-entitymgm contracts found: 10348\n",
      "#\tWriting the potential auction-nonauction contracts into file with an equal distribution...\n",
      "CPU times: user 2.64 s, sys: 166 ms, total: 2.8 s\n",
      "Wall time: 2.87 s\n"
     ]
    }
   ],
   "source": [
    "%%time\n",
    "print(\"#\\tCreating entitymgm-nonentitymgm dataset.\")\n",
    "\n",
    "potential_entitymgm = udf.loc[\n",
    "    lambda data: data.function_names.apply(\n",
    "        lambda l:(('register' in str(l) or 'add' in str(l)) and ('update' in str(l) or 'edit' in str(l)) and 'delete' in str(l))\n",
    "                or ('addorg' in str(l) or 'updateorg' in str(l) or 'removeorg' in str(l))\n",
    "                or ('addmember' in str(l) or 'updatemember' in str(l) or 'removemember' in str(l) or 'getmember' in str(l) and 'getmembershipprice' not in str(l))\n",
    "                or 'updateplayer' in str(l) and ('addplayer' in str(l) or 'removeplayer' in str(l))\n",
    "                or 'updateuser' in str(l) and ('adduser' in str(l) or ('removeuser' in str(l) or 'deleteuser' in str(l)))\n",
    "    )\n",
    "]\n",
    "\n",
    "print(\"#\\tNumber of potential entitymgm contracts found: {}\".format(potential_entitymgm.shape[0]))\n",
    "\n",
    "potential_non_entitymgm = udf.loc[\n",
    "   lambda data: data.function_names.apply(\n",
    "        lambda l: 'add' not in str(l) and\n",
    "                  'update' not in str(l) and \n",
    "                  'delete' not in str(l) and\n",
    "                  'remove' not in str(l) and \n",
    "                  'get' not in str(l) and \n",
    "                  'setowner' not in str(l)\n",
    "    )\n",
    "]\n",
    "potential_non_entitymgm = potential_non_entitymgm.drop_duplicates(subset='function_names', keep=\"first\")\n",
    "print(\"#\\tNumber of potential non-entitymgm contracts found: {}\".format(potential_non_entitymgm.shape[0]))\n",
    "\n",
    "print(\"#\\tWriting the potential auction-nonauction contracts into file with an equal distribution...\")\n",
    "write_dataset_into_file(potential_entitymgm, potential_non_entitymgm, \"entitymgm.csv\", \"non-entitymgm.csv\")"
   ]
  },
  {
   "cell_type": "markdown",
   "metadata": {},
   "source": [
    "## Renting"
   ]
  },
  {
   "cell_type": "code",
   "execution_count": 11,
   "metadata": {},
   "outputs": [
    {
     "name": "stdout",
     "output_type": "stream",
     "text": [
      "#\tCreating renting-nonrenting dataset.\n",
      "#\tNumber of potential renting contracts found: 60\n",
      "#\tNumber of potential non-renting contracts found: 37919\n",
      "#\tWriting the potential renting-nonrenting contracts into file with an equal distribution...\n",
      "CPU times: user 505 ms, sys: 23 ms, total: 528 ms\n",
      "Wall time: 536 ms\n"
     ]
    }
   ],
   "source": [
    "%%time\n",
    "print(\"#\\tCreating renting-nonrenting dataset.\")\n",
    "\n",
    "potential_renting = udf.loc[\n",
    "    lambda data: data.function_names.apply(\n",
    "        lambda l: ('rent' in str(l) and 'parent' not in str(l) and 'current' not in str(l) and 'userentr' not in str(l) and\n",
    "                  'rentity' not in str(l) and 'prentftoken' not in str(l) and 'thorentiumtoken' not in str(l) and \n",
    "                  'different' not in str(l) and 'cyberentry' not in str(l) and 'transferentirestake' not in str(l) and\n",
    "                  'advisorentitlement' not in str(l) and 'apprentice' not in str(l) and 'torrent' not in str(l) and \n",
    "                  'childrenteam' not in str(l)) or\n",
    "                  (('lease' in str(l) or 'lessee' in str(l)) and 'release' not in str(l) and 'please' not in str(l)) or\n",
    "                  ('hire' in str(l) and 'kushiresul' not in str(l) and 'hiregotoken' not in str(l))\n",
    "    )\n",
    "]\n",
    "\n",
    "print(\"#\\tNumber of potential renting contracts found: {}\".format(potential_renting.shape[0]))\n",
    "\n",
    "potential_non_renting = udf.loc[\n",
    "    lambda data: data.function_names.apply(\n",
    "        lambda l: 'rent' not in str(l) and\n",
    "                  'lease' not in str(l) and\n",
    "                  'hire' not in str(l)\n",
    "    )\n",
    "]\n",
    "\n",
    "potential_non_renting = potential_non_renting.drop_duplicates(subset='function_names', keep=\"first\")\n",
    "\n",
    "print(\"#\\tNumber of potential non-renting contracts found: {}\".format(potential_non_renting.shape[0]))\n",
    "\n",
    "print(\"#\\tWriting the potential renting-nonrenting contracts into file with an equal distribution...\")\n",
    "write_dataset_into_file(potential_renting, potential_non_renting, \"renting.csv\", \"non-renting.csv\")"
   ]
  },
  {
   "cell_type": "markdown",
   "metadata": {},
   "source": [
    "## Trading"
   ]
  },
  {
   "cell_type": "code",
   "execution_count": 12,
   "metadata": {},
   "outputs": [
    {
     "name": "stdout",
     "output_type": "stream",
     "text": [
      "#\tCreating trading-nontrading dataset.\n",
      "#\tNumber of potential trading contracts found: 1117\n",
      "#\tNumber of potential non-trading contracts found: 3337\n",
      "#\tWriting the potential trading-nontrading contracts into file with an equal distribution...\n",
      "CPU times: user 2.4 s, sys: 196 ms, total: 2.6 s\n",
      "Wall time: 2.66 s\n"
     ]
    }
   ],
   "source": [
    "%%time\n",
    "print(\"#\\tCreating trading-nontrading dataset.\")\n",
    "\n",
    "potential_trading = udf.loc[\n",
    "    lambda data: data.function_names.apply(\n",
    "        lambda l: (('buy' in str(l) or 'sell' in str(l) or 'purchase' in str(l)) and 'transferownership' in str(l) and 'asset' in str(l))\n",
    "                  or ('trade' in str(l) and 'trademark' not in str(l))\n",
    "    )\n",
    "]\n",
    "potential_trading = potential_trading.drop_duplicates(subset='function_names', keep=\"first\")\n",
    "print(\"#\\tNumber of potential trading contracts found: {}\".format(potential_trading.shape[0]))\n",
    "\n",
    "\n",
    "potential_non_trading = udf.loc[\n",
    "    lambda data: data.function_names.apply(\n",
    "        lambda l: 'ownership' not in str(l) and\n",
    "                  'transfer' not in str(l) and\n",
    "                  'trade' not in str(l) and\n",
    "                  'sell'not in str(l) and\n",
    "                  'buy' not in str(l) and\n",
    "                  'asset' not in str(l) and\n",
    "                  'own' not in str(l)\n",
    "    )\n",
    "]\n",
    "\n",
    "potential_non_trading = potential_non_trading.drop_duplicates(subset='function_names', keep=\"first\")\n",
    "print(\"#\\tNumber of potential non-trading contracts found: {}\".format(potential_non_trading.shape[0]))\n",
    "\n",
    "print(\"#\\tWriting the potential trading-nontrading contracts into file with an equal distribution...\")\n",
    "write_dataset_into_file(potential_trading, potential_non_trading, \"trading_not_annotated.csv\", \"non-trading.csv\")"
   ]
  },
  {
   "cell_type": "code",
   "execution_count": null,
   "metadata": {},
   "outputs": [],
   "source": []
  }
 ],
 "metadata": {
  "kernelspec": {
   "display_name": "Python 3",
   "language": "python",
   "name": "python3"
  },
  "language_info": {
   "codemirror_mode": {
    "name": "ipython",
    "version": 3
   },
   "file_extension": ".py",
   "mimetype": "text/x-python",
   "name": "python",
   "nbconvert_exporter": "python",
   "pygments_lexer": "ipython3",
   "version": "3.7.4"
  }
 },
 "nbformat": 4,
 "nbformat_minor": 2
}
