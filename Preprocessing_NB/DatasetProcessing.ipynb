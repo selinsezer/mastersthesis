{
 "cells": [
  {
   "cell_type": "code",
   "execution_count": 1,
   "metadata": {},
   "outputs": [
    {
     "name": "stdout",
     "output_type": "stream",
     "text": [
      "CPU times: user 610 ms, sys: 177 ms, total: 786 ms\n",
      "Wall time: 913 ms\n"
     ]
    }
   ],
   "source": [
    "%%time\n",
    "import pandas as pd\n",
    "import numpy as np"
   ]
  },
  {
   "cell_type": "code",
   "execution_count": 2,
   "metadata": {},
   "outputs": [
    {
     "name": "stdout",
     "output_type": "stream",
     "text": [
      "#\tReading cleaned data...\n",
      "CPU times: user 1.43 s, sys: 168 ms, total: 1.6 s\n",
      "Wall time: 1.64 s\n"
     ]
    }
   ],
   "source": [
    "%%time\n",
    "print(\"#\\tReading cleaned data...\")\n",
    "file_name = \"midstages/data_cleaned_withfunctionnames.csv\"\n",
    "dtype={\"address\": str, \"solidity\": str, \"opcode\": str, \"function_names\": list}\n",
    "df = pd.read_csv(file_name, sep='\\t')"
   ]
  },
  {
   "cell_type": "code",
   "execution_count": 9,
   "metadata": {},
   "outputs": [
    {
     "data": {
      "text/html": [
       "<div>\n",
       "<style scoped>\n",
       "    .dataframe tbody tr th:only-of-type {\n",
       "        vertical-align: middle;\n",
       "    }\n",
       "\n",
       "    .dataframe tbody tr th {\n",
       "        vertical-align: top;\n",
       "    }\n",
       "\n",
       "    .dataframe thead th {\n",
       "        text-align: right;\n",
       "    }\n",
       "</style>\n",
       "<table border=\"1\" class=\"dataframe\">\n",
       "  <thead>\n",
       "    <tr style=\"text-align: right;\">\n",
       "      <th></th>\n",
       "      <th>address</th>\n",
       "      <th>solidity</th>\n",
       "      <th>opcode</th>\n",
       "      <th>function_names</th>\n",
       "    </tr>\n",
       "  </thead>\n",
       "  <tbody>\n",
       "    <tr>\n",
       "      <td>0</td>\n",
       "      <td>0x3ccd3f8531f1cc5d9075e8a5bb2e09f688644300</td>\n",
       "      <td>pragma solidity ^0.4.18;\\r\\n\\r\\n///&gt;[ Crypto B...</td>\n",
       "      <td>PUSH1,PUSH1,MSTORE,PUSH1,DUP1,SLOAD,PUSH1,NOT,...</td>\n",
       "      <td>approve,balanceof,implementserc721,ownerof,tak...</td>\n",
       "    </tr>\n",
       "    <tr>\n",
       "      <td>1</td>\n",
       "      <td>0xe8ef8d9d9ff515720a62d2e2f14f3b5b677c6670</td>\n",
       "      <td>pragma solidity ^0.4.16;\\r\\n\\r\\ninterface toke...</td>\n",
       "      <td>PUSH1,PUSH1,MSTORE,PUSH1,PUSH1,PUSH1,PUSH2,EXP...</td>\n",
       "      <td>receiveapproval,tokenerc20,_transfer,transfer,...</td>\n",
       "    </tr>\n",
       "    <tr>\n",
       "      <td>2</td>\n",
       "      <td>0xecbd0854075009d23360c62da07047efc2312144</td>\n",
       "      <td>pragma solidity ^0.4.16;\\r\\n\\r\\ninterface toke...</td>\n",
       "      <td>PUSH1,PUSH1,MSTORE,PUSH1,PUSH1,PUSH1,PUSH2,EXP...</td>\n",
       "      <td>transfer,checkgoalreached,safewithdrawal</td>\n",
       "    </tr>\n",
       "    <tr>\n",
       "      <td>3</td>\n",
       "      <td>0x92d3e963aa94d909869940a8d15fa16ccbc6655e</td>\n",
       "      <td>pragma solidity ^0.4.18;\\r\\n\\r\\ncontract Ownab...</td>\n",
       "      <td>PUSH1,PUSH1,MSTORE,PUSH1,DUP1,SLOAD,PUSH1,PUSH...</td>\n",
       "      <td>ownable,transferownership,pause,unpause,kill,b...</td>\n",
       "    </tr>\n",
       "    <tr>\n",
       "      <td>4</td>\n",
       "      <td>0x3e516824a408c7029c3f870510d59442143c2db9</td>\n",
       "      <td>pragma solidity ^0.4.13;\\r\\n\\r\\ninterface Fund...</td>\n",
       "      <td>PUSH1,PUSH1,MSTORE,CALLVALUE,ISZERO,PUSH2,JUMP...</td>\n",
       "      <td>requestinvestment,requestredemption,executereq...</td>\n",
       "    </tr>\n",
       "  </tbody>\n",
       "</table>\n",
       "</div>"
      ],
      "text/plain": [
       "                                      address  \\\n",
       "0  0x3ccd3f8531f1cc5d9075e8a5bb2e09f688644300   \n",
       "1  0xe8ef8d9d9ff515720a62d2e2f14f3b5b677c6670   \n",
       "2  0xecbd0854075009d23360c62da07047efc2312144   \n",
       "3  0x92d3e963aa94d909869940a8d15fa16ccbc6655e   \n",
       "4  0x3e516824a408c7029c3f870510d59442143c2db9   \n",
       "\n",
       "                                            solidity  \\\n",
       "0  pragma solidity ^0.4.18;\\r\\n\\r\\n///>[ Crypto B...   \n",
       "1  pragma solidity ^0.4.16;\\r\\n\\r\\ninterface toke...   \n",
       "2  pragma solidity ^0.4.16;\\r\\n\\r\\ninterface toke...   \n",
       "3  pragma solidity ^0.4.18;\\r\\n\\r\\ncontract Ownab...   \n",
       "4  pragma solidity ^0.4.13;\\r\\n\\r\\ninterface Fund...   \n",
       "\n",
       "                                              opcode  \\\n",
       "0  PUSH1,PUSH1,MSTORE,PUSH1,DUP1,SLOAD,PUSH1,NOT,...   \n",
       "1  PUSH1,PUSH1,MSTORE,PUSH1,PUSH1,PUSH1,PUSH2,EXP...   \n",
       "2  PUSH1,PUSH1,MSTORE,PUSH1,PUSH1,PUSH1,PUSH2,EXP...   \n",
       "3  PUSH1,PUSH1,MSTORE,PUSH1,DUP1,SLOAD,PUSH1,PUSH...   \n",
       "4  PUSH1,PUSH1,MSTORE,CALLVALUE,ISZERO,PUSH2,JUMP...   \n",
       "\n",
       "                                      function_names  \n",
       "0  approve,balanceof,implementserc721,ownerof,tak...  \n",
       "1  receiveapproval,tokenerc20,_transfer,transfer,...  \n",
       "2           transfer,checkgoalreached,safewithdrawal  \n",
       "3  ownable,transferownership,pause,unpause,kill,b...  \n",
       "4  requestinvestment,requestredemption,executereq...  "
      ]
     },
     "execution_count": 9,
     "metadata": {},
     "output_type": "execute_result"
    }
   ],
   "source": [
    "df.head(5)"
   ]
  },
  {
   "cell_type": "code",
   "execution_count": 3,
   "metadata": {},
   "outputs": [
    {
     "name": "stdout",
     "output_type": "stream",
     "text": [
      "CPU times: user 3 µs, sys: 1e+03 ns, total: 4 µs\n",
      "Wall time: 7.15 µs\n"
     ]
    }
   ],
   "source": [
    "%%time\n",
    "def write_dataset_into_file(potential, potential_non, file_name_potential, file_name_non_potential):\n",
    "    sample_size = min(potential_non.shape[0], potential.shape[0])\n",
    "    potential.head(sample_size).to_csv(file_name_potential, sep=',', index=False, header='opcode')\n",
    "    potential_non.head(sample_size).to_csv(file_name_non_potential, sep=',', index=False, header='opcode')\n"
   ]
  },
  {
   "cell_type": "markdown",
   "metadata": {},
   "source": [
    "#### ERC20 Example"
   ]
  },
  {
   "cell_type": "code",
   "execution_count": 19,
   "metadata": {},
   "outputs": [
    {
     "name": "stdout",
     "output_type": "stream",
     "text": [
      "#\tCreating erc20-nonerc20 dataset.\n",
      "#\tNumber of potential erc20 contracts found: 1684\n",
      "#\tNumber of potential non-erc20 contracts found: 1601\n",
      "#\tWriting the potential erc20-nonerc20 contracts into file with an equal distribution...\n",
      "CPU times: user 3.16 s, sys: 186 ms, total: 3.35 s\n",
      "Wall time: 3.96 s\n"
     ]
    }
   ],
   "source": [
    "%%time\n",
    "print(\"#\\tCreating erc20-nonerc20 dataset.\")\n",
    "\n",
    "potential_erc20 = df.loc[\n",
    "    lambda data: data.function_names.apply(\n",
    "        lambda l: 'balanceof' in str(l) and\n",
    "                  'totalsupply' in str(l) and \n",
    "                  'transfer' in str(l) and\n",
    "                  'transferfrom' in str(l) and\n",
    "                  'approve' in str(l) and\n",
    "                  'allowance' in str(l)\n",
    "    )\n",
    "]\n",
    "print(\"#\\tNumber of potential erc20 contracts found: {}\".format(potential_erc20.shape[0]))\n",
    "\n",
    "potential_non_erc20 = df.loc[\n",
    "    lambda data: data.function_names.apply(\n",
    "        lambda l: 'balanceof' not in str(l) and\n",
    "                  'totalsupply' not in str(l) and \n",
    "                  'transfer' not in str(l) and\n",
    "                  'transferfrom' not in str(l) and\n",
    "                  'approve' not in str(l) and\n",
    "                  'allowance' not in str(l)\n",
    "    )\n",
    "]\n",
    "print(\"#\\tNumber of potential non-erc20 contracts found: {}\".format(potential_non_erc20.shape[0]))\n",
    "\n",
    "print(\"#\\tWriting the potential erc20-nonerc20 contracts into file with an equal distribution...\")\n",
    "write_dataset_into_file(potential_erc20, potential_non_erc20, \"erc20.csv\", \"non-erc20.csv\")"
   ]
  },
  {
   "cell_type": "markdown",
   "metadata": {},
   "source": [
    "# Creating training data sets"
   ]
  },
  {
   "cell_type": "markdown",
   "metadata": {},
   "source": [
    "# Application Patterns"
   ]
  },
  {
   "cell_type": "markdown",
   "metadata": {},
   "source": [
    "## Voting"
   ]
  },
  {
   "cell_type": "code",
   "execution_count": 20,
   "metadata": {},
   "outputs": [
    {
     "name": "stdout",
     "output_type": "stream",
     "text": [
      "#\tCreating voting-nonvoting dataset.\n",
      "#\tNumber of potential vote contracts found: 207\n",
      "#\tNumber of potential non-vote contracts found: 7228\n",
      "#\tWriting the potential voting-nonvoting contracts into file with an equal distribution...\n",
      "CPU times: user 706 ms, sys: 32.1 ms, total: 738 ms\n",
      "Wall time: 825 ms\n"
     ]
    }
   ],
   "source": [
    "%%time\n",
    "print(\"#\\tCreating voting-nonvoting dataset.\")\n",
    "\n",
    "potential_voting = df.loc[\n",
    "    lambda data: data.function_names.apply(\n",
    "        lambda l: 'vote' in str(l) or\n",
    "                  'ballot' in str(l) or\n",
    "                  'gettotalvotes' in str(l) or\n",
    "                  'sendvote' in str(l) or\n",
    "                  'voter' in str(l)\n",
    "    )\n",
    "]\n",
    "\n",
    "print(\"#\\tNumber of potential vote contracts found: {}\".format(potential_voting.shape[0]))\n",
    "potential_non_voting = df.loc[\n",
    "    lambda data: data.function_names.apply(\n",
    "        lambda l: 'vote' not in str(l) and\n",
    "                  'ballot' not in str(l) and\n",
    "                  'gettotalvotes' not in str(l) and\n",
    "                  'sendvote' not in str(l)\n",
    "    )\n",
    "]\n",
    "print(\"#\\tNumber of potential non-vote contracts found: {}\".format(potential_non_voting.shape[0]))\n",
    "\n",
    "print(\"#\\tWriting the potential voting-nonvoting contracts into file with an equal distribution...\")\n",
    "write_dataset_into_file(potential_voting, potential_non_voting, \"voting_not_annotated.csv\", \"non-voting.csv\")"
   ]
  },
  {
   "cell_type": "markdown",
   "metadata": {},
   "source": [
    "## Auction"
   ]
  },
  {
   "cell_type": "code",
   "execution_count": 4,
   "metadata": {},
   "outputs": [
    {
     "name": "stdout",
     "output_type": "stream",
     "text": [
      "#\tCreating auction-nonauciton dataset.\n",
      "#\tNumber of potential auction contracts found: 66\n",
      "#\tNumber of potential non-auction contracts found: 7322\n",
      "#\tWriting the potential auction-nonauction contracts into file with an equal distribution...\n",
      "CPU times: user 156 ms, sys: 10.7 ms, total: 167 ms\n",
      "Wall time: 175 ms\n"
     ]
    }
   ],
   "source": [
    "%%time\n",
    "print(\"#\\tCreating auction-nonauciton dataset.\")\n",
    "\n",
    "potential_auction = df.loc[\n",
    "    lambda data: data.function_names.apply(\n",
    "        lambda l: 'auction' in str(l) or\n",
    "                  'bid' in str(l)\n",
    "    )\n",
    "]\n",
    "\n",
    "print(\"#\\tNumber of potential auction contracts found: {}\".format(potential_auction.shape[0]))\n",
    "\n",
    "potential_non_auction = df.loc[\n",
    "    lambda data: data.function_names.apply(\n",
    "        lambda l: 'auction' not in str(l) and\n",
    "                  'bid' not in str(l) and\n",
    "                  'offer' not in str(l)\n",
    "    )\n",
    "]\n",
    "\n",
    "print(\"#\\tNumber of potential non-auction contracts found: {}\".format(potential_non_auction.shape[0]))\n",
    "\n",
    "print(\"#\\tWriting the potential auction-nonauction contracts into file with an equal distribution...\")\n",
    "write_dataset_into_file(potential_auction, potential_non_auction, \"auction_not_annotated.csv\", \"non-auction.csv\")"
   ]
  },
  {
   "cell_type": "markdown",
   "metadata": {},
   "source": [
    "## Trading"
   ]
  },
  {
   "cell_type": "code",
   "execution_count": 37,
   "metadata": {},
   "outputs": [
    {
     "name": "stdout",
     "output_type": "stream",
     "text": [
      "#\tCreating trading-nontrading dataset.\n",
      "#\tNumber of potential trading contracts found: 2447\n",
      "CPU times: user 10.6 ms, sys: 1.58 ms, total: 12.2 ms\n",
      "Wall time: 11.1 ms\n"
     ]
    },
    {
     "data": {
      "text/plain": [
       "'pragma solidity ^0.4.18;\\r\\n\\r\\ncontract Ownable {\\r\\naddress public owner;\\r\\n\\r\\n\\r\\nevent OwnershipTransferred(address indexed previousOwner, address indexed newOwner);\\r\\n\\r\\nfunction Ownable() public {\\r\\nowner = msg.sender;\\r\\n}\\r\\n\\r\\nmodifier onlyOwner() {\\r\\nrequire(msg.sender == owner);\\r\\n_;\\r\\n}\\r\\n\\r\\nfunction transferOwnership(address newOwner) public onlyOwner {\\r\\nrequire(newOwner != address(0));\\r\\nOwnershipTransferred(owner, newOwner);\\r\\nowner = newOwner;\\r\\n}\\r\\n}\\r\\n\\r\\ncontract Pausable is Ownable {\\r\\nevent Pause();\\r\\nevent Unpause();\\r\\n\\r\\nbool public paused = false;\\r\\n\\r\\nmodifier whenNotPaused() {\\r\\nrequire(!paused);\\r\\n_;\\r\\n}\\r\\n\\r\\nmodifier whenPaused() {\\r\\nrequire(paused);\\r\\n_;\\r\\n}\\r\\n\\r\\nfunction pause() onlyOwner whenNotPaused public {\\r\\npaused = true;\\r\\nPause();\\r\\n}\\r\\n\\r\\nfunction unpause() onlyOwner whenPaused public {\\r\\npaused = false;\\r\\nUnpause();\\r\\n}\\r\\n\\r\\nfunction kill() onlyOwner public {\\r\\n    if (msg.sender == owner) selfdestruct(owner);\\r\\n}\\r\\n}\\r\\n\\r\\ncontract ERC20Basic {\\r\\nuint256 public totalSupply;\\r\\nfunction balanceOf(address who) public view returns (uint256);\\r\\nfunction transfer(address to, uint256 value) public returns (bool);\\r\\nevent Transfer(address indexed from, address indexed to, uint256 value);\\r\\n}\\r\\n\\r\\n\\r\\ncontract ERC20 is ERC20Basic {\\r\\nfunction allowance(address owner, address spender) public view returns (uint256);\\r\\nfunction transferFrom(address from, address to, uint256 value) public returns (bool);\\r\\nfunction approve(address spender, uint256 value) public returns (bool);\\r\\nevent Approval(address indexed owner, address indexed spender, uint256 value);\\r\\n}\\r\\n\\r\\nlibrary SafeMath {\\r\\nfunction mul(uint256 a, uint256 b) internal pure returns (uint256) {\\r\\nif (a == 0) {\\r\\nreturn 0;\\r\\n}\\r\\nuint256 c = a * b;\\r\\nassert(c / a == b);\\r\\nreturn c;\\r\\n}\\r\\n\\r\\nfunction div(uint256 a, uint256 b) internal pure returns (uint256) {\\r\\nuint256 c = a / b;\\r\\nreturn c;\\r\\n}\\r\\n\\r\\nfunction sub(uint256 a, uint256 b) internal pure returns (uint256) {\\r\\nassert(b <= a);\\r\\nreturn a - b;\\r\\n}\\r\\n\\r\\nfunction add(uint256 a, uint256 b) internal pure returns (uint256) {\\r\\nuint256 c = a + b;\\r\\nassert(c >= a);\\r\\nreturn c;\\r\\n}\\r\\n}\\r\\n\\r\\n\\r\\ncontract BasicToken is ERC20Basic {\\r\\nusing SafeMath for uint256;\\r\\n\\r\\nmapping(address => uint256) balances;\\r\\n\\r\\nfunction transfer(address _to, uint256 _value) public returns (bool) {\\r\\nrequire(_to != address(0));\\r\\nrequire(_value <= balances[msg.sender]);\\r\\n\\r\\nbalances[msg.sender] = balances[msg.sender].sub(_value);\\r\\nbalances[_to] = balances[_to].add(_value);\\r\\nTransfer(msg.sender, _to, _value);\\r\\nreturn true;\\r\\n}\\r\\n\\r\\nfunction balanceOf(address _owner) public view returns (uint256 balance) {\\r\\nreturn balances[_owner];\\r\\n}\\r\\n}\\r\\n\\r\\ncontract StandardToken is ERC20, BasicToken {\\r\\n\\r\\nmapping (address => mapping (address => uint256)) internal allowed;\\r\\n\\r\\nfunction transferFrom(address _from, address _to, uint256 _value) public returns (bool) {\\r\\nrequire(_to != address(0));\\r\\nrequire(_value <= balances[_from]);\\r\\nrequire(_value <= allowed[_from][msg.sender]);\\r\\n\\r\\nbalances[_from] = balances[_from].sub(_value);\\r\\nbalances[_to] = balances[_to].add(_value);\\r\\nallowed[_from][msg.sender] = allowed[_from][msg.sender].sub(_value);\\r\\nTransfer(_from, _to, _value);\\r\\nreturn true;\\r\\n}\\r\\n\\r\\nfunction approve(address _spender, uint256 _value) public returns (bool) {\\r\\nallowed[msg.sender][_spender] = _value;\\r\\nApproval(msg.sender, _spender, _value);\\r\\nreturn true;\\r\\n}\\r\\n\\r\\nfunction allowance(address _owner, address _spender) public view returns (uint256) {\\r\\nreturn allowed[_owner][_spender];\\r\\n}\\r\\n\\r\\nfunction increaseApproval(address _spender, uint _addedValue) public returns (bool) {\\r\\nallowed[msg.sender][_spender] = allowed[msg.sender][_spender].add(_addedValue);\\r\\nApproval(msg.sender, _spender, allowed[msg.sender][_spender]);\\r\\nreturn true;\\r\\n}\\r\\n\\r\\nfunction decreaseApproval(address _spender, uint _subtractedValue) public returns (bool) {\\r\\nuint oldValue = allowed[msg.sender][_spender];\\r\\nif (_subtractedValue > oldValue) {\\r\\nallowed[msg.sender][_spender] = 0;\\r\\n} else {\\r\\nallowed[msg.sender][_spender] = oldValue.sub(_subtractedValue);\\r\\n}\\r\\nApproval(msg.sender, _spender, allowed[msg.sender][_spender]);\\r\\nreturn true;\\r\\n}\\r\\n}\\r\\n\\r\\ncontract MintableToken is StandardToken, Ownable {\\r\\nevent Mint(address indexed to, uint256 amount);\\r\\nevent MintFinished();\\r\\n\\r\\nbool public mintingFinished = false;\\r\\n\\r\\n\\r\\nmodifier canMint() {\\r\\nrequire(!mintingFinished);\\r\\n_;\\r\\n}\\r\\n\\r\\nfunction mint(address _to, uint256 _amount) onlyOwner canMint public returns (bool) {\\r\\ntotalSupply = totalSupply.add(_amount);\\r\\nbalances[_to] = balances[_to].add(_amount);\\r\\nMint(_to, _amount);\\r\\nTransfer(address(0), _to, _amount);\\r\\nreturn true;\\r\\n}\\r\\n\\r\\nfunction finishMinting() onlyOwner canMint public returns (bool) {\\r\\nmintingFinished = true;\\r\\nMintFinished();\\r\\nreturn true;\\r\\n}\\r\\n}\\r\\n\\r\\ncontract TokenConfig {\\r\\n\\r\\nstring  public constant TOKEN_SYMBOL   = \"GYM\";\\r\\nstring  public constant TOKEN_NAME     = \"GYM Rewards\";\\r\\nuint8   public constant TOKEN_DECIMALS = 18;\\r\\n\\r\\nuint256 public constant DECIMALSFACTOR = 10**uint256(TOKEN_DECIMALS);\\r\\n}\\r\\n\\r\\ncontract TokenSaleConfig is TokenConfig {\\r\\n\\r\\nuint256 public constant START_TIME                = 1519689601; \\r\\nuint256 public constant PHASE2_START_TIME         = 1519862401;\\r\\nuint256 public constant PHASE3_START_TIME         = 1522540801; \\r\\nuint256 public constant PHASE4_START_TIME         = 1523750401;\\r\\nuint256 public constant PHASE5_START_TIME         = 1525046401; \\r\\nuint256 public constant END_TIME                  = 1526428799; \\r\\n\\r\\nuint256 public constant TIER1_RATE                  =  16000;\\r\\nuint256 public constant TIER2_RATE                  =  15000;\\r\\nuint256 public constant TIER3_RATE                  =  14000;\\r\\nuint256 public constant TIER4_RATE                  =  12000;\\r\\nuint256 public constant TIER5_RATE                  =  10000;\\r\\n\\r\\n\\r\\nuint256 public constant CONTRIBUTION_MIN          = 1 * 10 ** 16; \\r\\nuint256 public constant CONTRIBUTION_MAX          = 100000 ether;\\r\\n\\r\\nuint256 public constant MAX_TOKENS_SALE               = 1660000000  * DECIMALSFACTOR;  \\r\\nuint256 public constant MAX_TOKENS_FOUNDERS           =  100000000  * DECIMALSFACTOR; \\r\\nuint256 public constant MAX_TOKENS_RESERVE\\t      =  100000000  * DECIMALSFACTOR; \\r\\nuint256 public constant MAX_TOKENS_AIRDROPS_BOUNTIES  =   80000000  * DECIMALSFACTOR; \\r\\nuint256 public constant MAX_TOKENS_ADVISORS_PARTNERS  =   60000000  * DECIMALSFACTOR; \\r\\n\\r\\n}\\r\\n\\r\\n\\r\\n\\r\\ncontract GYMRewardsToken is MintableToken, TokenConfig {\\r\\n\\tstring public constant name = TOKEN_NAME;\\r\\n\\tstring public constant symbol = TOKEN_SYMBOL;\\r\\n\\tuint8 public constant decimals = TOKEN_DECIMALS;\\r\\n}\\r\\n\\r\\ncontract GYMRewardsCrowdsale is Pausable, TokenSaleConfig {\\r\\n\\tusing SafeMath for uint256;\\r\\n\\r\\n\\tGYMRewardsToken public token;\\r\\n\\r\\n\\tuint256 public startTime;\\r\\n\\tuint256 public tier2Time;\\r\\n\\tuint256 public tier3Time;\\r\\n\\tuint256 public tier4Time;\\r\\n\\tuint256 public tier5Time;\\r\\n\\tuint256 public endTime;\\r\\n\\r\\n\\taddress public wallet = 0xE38cc3F48b4F98Cb3577aC75bB96DBBc87bc57d6;\\r\\n\\taddress public airdrop_wallet = 0x5Fec898d08801Efd884A1162Fd159474757D422F;\\r\\n\\taddress public reserve_wallet = 0x2A0Fc31cDE12a74143D7B9642423a2D8a3453b07;\\r\\n\\taddress public founders_wallet = 0x5C11b5aF9f1b4CDEeab9f6BebEd4EdbAe67900C3;\\r\\n\\taddress public advisors_wallet = 0xD8A1a54DcECe365C56B98EbDb9078Bdb2FA609da;\\r\\n\\r\\n\\tuint256 public weiRaised;\\r\\n\\r\\n\\tuint256 public tokensMintedForSale;\\r\\n\\tuint256 public tokensMintedForOperations;\\r\\n\\tbool public isFinalized = false;\\r\\n\\tbool public opMinted = false;\\r\\n\\r\\n\\r\\n\\tevent Finalized();\\r\\n\\r\\n\\tmodifier onlyDuringSale() {\\r\\n\\t\\trequire(hasStarted() && !hasEnded());\\r\\n\\t\\t_;\\r\\n\\t}\\r\\n\\r\\n\\tmodifier onlyAfterSale() {\\r\\n\\t\\trequire(hasEnded());\\r\\n\\t\\t_;\\r\\n\\t}\\r\\n\\r\\n\\tevent TokenPurchase(address indexed purchaser, address indexed beneficiary, uint256 value, uint256 amount);\\r\\n\\tevent BountiesMinted(address indexed purchaser, address indexed beneficiary, uint256 value, uint256 amount);\\r\\n\\tevent LongTermReserveMinted(address indexed purchaser, address indexed beneficiary, uint256 value, uint256 amount);\\r\\n\\tevent CoreTeamMinted(address indexed purchaser, address indexed beneficiary, uint256 value, uint256 amount);\\r\\n\\tevent AdvisorsAndPartnersMinted(address indexed purchaser, address indexed beneficiary, uint256 value, uint256 amount);\\r\\n\\r\\n\\r\\n\\tfunction GYMRewardsCrowdsale() public {\\r\\n\\t\\r\\n\\t\\ttoken = createTokenContract();\\r\\n\\t\\tstartTime = START_TIME;\\r\\n\\t\\ttier2Time = PHASE2_START_TIME;\\r\\n\\t\\ttier3Time = PHASE3_START_TIME;\\r\\n\\t\\ttier4Time = PHASE4_START_TIME;\\r\\n\\t\\ttier5Time = PHASE5_START_TIME;\\r\\n\\t\\tendTime = END_TIME;\\r\\n\\r\\n\\t\\tmintBounties();\\r\\n\\t}\\r\\n\\r\\n\\tfunction createTokenContract() internal returns (GYMRewardsToken) {\\r\\n\\t\\treturn new GYMRewardsToken();\\r\\n\\t}\\r\\n\\r\\n\\tfunction () public payable whenNotPaused onlyDuringSale {\\r\\n\\t\\tbuyTokens(msg.sender);\\r\\n\\t}\\r\\n\\r\\n\\tfunction mintBounties() public onlyOwner{\\r\\n\\t\\tif (opMinted == false)\\r\\n\\t\\t{\\r\\n\\t\\t\\topMinted = true;\\r\\n\\t\\t\\ttokensMintedForOperations = tokensMintedForOperations.add(MAX_TOKENS_AIRDROPS_BOUNTIES);\\r\\n\\t\\t\\ttoken.mint(airdrop_wallet, MAX_TOKENS_AIRDROPS_BOUNTIES);\\r\\n\\r\\n\\t\\t\\ttokensMintedForOperations = tokensMintedForOperations.add(MAX_TOKENS_RESERVE);\\r\\n\\t\\t\\ttoken.mint(reserve_wallet, MAX_TOKENS_RESERVE);\\r\\n\\r\\n\\t\\t\\ttokensMintedForOperations = tokensMintedForOperations.add(MAX_TOKENS_FOUNDERS);\\r\\n\\t\\t\\ttoken.mint(founders_wallet, MAX_TOKENS_FOUNDERS);\\r\\n\\r\\n\\t\\t\\ttokensMintedForOperations = tokensMintedForOperations.add(MAX_TOKENS_ADVISORS_PARTNERS);\\r\\n\\t\\t\\ttoken.mint(advisors_wallet, MAX_TOKENS_ADVISORS_PARTNERS);\\r\\n\\r\\n\\t\\t\\tBountiesMinted(owner, airdrop_wallet, MAX_TOKENS_AIRDROPS_BOUNTIES, MAX_TOKENS_AIRDROPS_BOUNTIES);\\r\\n\\t\\t\\tLongTermReserveMinted(owner, reserve_wallet, MAX_TOKENS_RESERVE, MAX_TOKENS_RESERVE);\\r\\n\\t\\t\\tCoreTeamMinted(owner, founders_wallet, MAX_TOKENS_FOUNDERS, MAX_TOKENS_FOUNDERS);\\r\\n\\t\\t\\tAdvisorsAndPartnersMinted(owner, advisors_wallet, MAX_TOKENS_ADVISORS_PARTNERS, MAX_TOKENS_ADVISORS_PARTNERS);\\r\\n\\t\\t}\\r\\n\\t}\\r\\n\\r\\n\\tfunction buyTokens(address beneficiary) public payable whenNotPaused onlyDuringSale {\\r\\n\\t\\trequire(beneficiary != address(0));\\r\\n\\t\\trequire(msg.value > 0); \\r\\n\\r\\n\\r\\n\\t\\tuint256 weiAmount = msg.value;\\r\\n\\r\\n\\t\\tuint256 exchangeRate = calculateTierBonus();\\r\\n\\t\\tuint256 tokens = weiAmount.mul(exchangeRate);\\r\\n\\r\\n\\t\\trequire (tokensMintedForSale <= MAX_TOKENS_SALE);\\r\\n\\r\\n\\r\\n\\t\\tweiRaised = weiRaised.add(weiAmount); \\r\\n\\t\\ttokensMintedForSale = tokensMintedForSale.add(tokens); \\r\\n\\r\\n\\t\\ttoken.mint(beneficiary, tokens);\\r\\n\\r\\n\\t\\tTokenPurchase(msg.sender, beneficiary, weiAmount, tokens);\\r\\n\\r\\n\\t\\tif (tokensMintedForSale >= MAX_TOKENS_SALE) {\\r\\n\\t\\t\\tfinalizeInternal();\\r\\n\\t\\t}\\r\\n\\r\\n\\t\\tforwardFunds();\\r\\n\\t}\\r\\n\\r\\n\\tfunction calculateTierBonus() public view returns (uint256){\\r\\n\\t\\t\\tif(now >= startTime && now < tier2Time){\\r\\n\\t\\t\\treturn TIER1_RATE;\\r\\n\\t\\t\\t}\\r\\n\\r\\n\\t\\t\\tif(now >= tier2Time && now < tier3Time){\\r\\n\\t\\t\\treturn TIER2_RATE;\\r\\n\\t\\t\\t}\\r\\n\\r\\n\\t\\t\\tif(now >= tier3Time && now <= tier4Time){\\r\\n\\t\\t\\treturn TIER3_RATE;\\r\\n\\t\\t\\t}\\r\\n\\r\\n\\t\\t\\tif(now >= tier4Time && now <= tier5Time){\\r\\n\\t\\t\\treturn TIER4_RATE;\\r\\n\\t\\t\\t}\\r\\n\\r\\n\\t\\t\\tif(now >= tier5Time && now <= endTime){\\r\\n\\t\\t\\treturn TIER5_RATE;\\r\\n\\t\\t\\t}\\r\\n\\t}\\r\\n\\r\\n\\tfunction finalizeInternal() internal returns (bool) {\\r\\n\\t\\trequire(!isFinalized);\\r\\n\\r\\n\\t\\tisFinalized = true;\\r\\n\\t\\tFinalized();\\r\\n\\t\\treturn true;\\r\\n\\t}\\r\\n\\r\\n\\tfunction forwardFunds() internal {\\r\\n\\t\\twallet.transfer(msg.value);\\r\\n\\t}\\r\\n\\r\\n\\tfunction hasEnded() public constant returns (bool) {\\r\\n\\t\\tbool _saleIsOver = now > endTime;\\r\\n\\t\\treturn _saleIsOver || isFinalized;\\r\\n\\t}\\r\\n\\r\\n\\tfunction hasStarted() public constant returns (bool) {\\r\\n\\t\\treturn now >= startTime;\\r\\n\\t}\\r\\n\\r\\n\\tfunction tellTime() public constant returns (uint) {\\r\\n\\t\\treturn now;\\r\\n\\t}\\r\\n\\r\\n\\tfunction totalSupply() public constant returns(uint256)\\r\\n\\t{\\r\\n\\t\\treturn tokensMintedForSale + tokensMintedForOperations;\\r\\n\\t}\\r\\n}'"
      ]
     },
     "execution_count": 37,
     "metadata": {},
     "output_type": "execute_result"
    }
   ],
   "source": [
    "%%time\n",
    "print(\"#\\tCreating trading-nontrading dataset.\")\n",
    "\n",
    "potential_trading = df.loc[\n",
    "    lambda data: data.function_names.apply(\n",
    "        lambda l: 'transferownership' in str(l) \n",
    "#         or\n",
    "#                   ('trade' in str(l) and\n",
    "#                   'seller' in str(l) and\n",
    "#                   'buyer' in str(l))\n",
    "#         or\n",
    "#                   'asset' in str(l)\n",
    "    )\n",
    "]\n",
    "\n",
    "print(\"#\\tNumber of potential trading contracts found: {}\".format(potential_trading.shape[0]))\n",
    "\n",
    "potential_trading.head(1)['solidity'].values[0]\n",
    "\n",
    "# potential_non_trading = df.loc[\n",
    "#     lambda data: data.function_names.apply(\n",
    "#         lambda l: 'ownership' not in str(l) and\n",
    "#                   'transfer' not in str(l) and\n",
    "#                   'trade' not in str(l) and\n",
    "#                   'seller' not in str(l) and\n",
    "#                   'buyer' not in str(l) and\n",
    "#                   'asset' not in str(l)\n",
    "#     )\n",
    "# ]\n",
    "# print(\"#\\tNumber of potential non-trading contracts found: {}\".format(potential_non_trading.shape[0]))\n",
    "\n",
    "# print(\"#\\tWriting the potential trading-nontrading contracts into file with an equal distribution...\")\n",
    "# write_dataset_into_file(potential_trading, potential_non_trading, \"trading_not_annotated.csv\", \"non-trading.csv\")"
   ]
  },
  {
   "cell_type": "code",
   "execution_count": null,
   "metadata": {},
   "outputs": [],
   "source": []
  }
 ],
 "metadata": {
  "kernelspec": {
   "display_name": "Python 3",
   "language": "python",
   "name": "python3"
  },
  "language_info": {
   "codemirror_mode": {
    "name": "ipython",
    "version": 3
   },
   "file_extension": ".py",
   "mimetype": "text/x-python",
   "name": "python",
   "nbconvert_exporter": "python",
   "pygments_lexer": "ipython3",
   "version": "3.7.4"
  }
 },
 "nbformat": 4,
 "nbformat_minor": 2
}
